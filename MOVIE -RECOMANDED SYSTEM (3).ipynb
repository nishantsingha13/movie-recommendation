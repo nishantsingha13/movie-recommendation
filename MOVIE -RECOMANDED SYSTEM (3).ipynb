{
 "cells": [
  {
   "cell_type": "code",
   "execution_count": 11,
   "id": "a7da586e-13d4-4f16-8ca2-1f642ea7e711",
   "metadata": {},
   "outputs": [],
   "source": [
    "import numpy as np\n",
    "import pandas as pd"
   ]
  },
  {
   "cell_type": "code",
   "execution_count": 12,
   "id": "9345abce-4c50-4f13-822e-5115ed5e1b9a",
   "metadata": {},
   "outputs": [
    {
     "ename": "FileNotFoundError",
     "evalue": "[Errno 2] No such file or directory: 'tmdb_5000_movies.csv'",
     "output_type": "error",
     "traceback": [
      "\u001b[1;31m---------------------------------------------------------------------------\u001b[0m",
      "\u001b[1;31mFileNotFoundError\u001b[0m                         Traceback (most recent call last)",
      "Cell \u001b[1;32mIn[12], line 1\u001b[0m\n\u001b[1;32m----> 1\u001b[0m movie\u001b[38;5;241m=\u001b[39m\u001b[43mpd\u001b[49m\u001b[38;5;241;43m.\u001b[39;49m\u001b[43mread_csv\u001b[49m\u001b[43m(\u001b[49m\u001b[38;5;124;43m'\u001b[39;49m\u001b[38;5;124;43mtmdb_5000_movies.csv\u001b[39;49m\u001b[38;5;124;43m'\u001b[39;49m\u001b[43m)\u001b[49m\n\u001b[0;32m      2\u001b[0m credit\u001b[38;5;241m=\u001b[39mpd\u001b[38;5;241m.\u001b[39mread_csv(\u001b[38;5;124m'\u001b[39m\u001b[38;5;124mtmdb_5000_credits.csv\u001b[39m\u001b[38;5;124m'\u001b[39m)\n",
      "File \u001b[1;32mC:\\python3.11\\Lib\\site-packages\\pandas\\io\\parsers\\readers.py:948\u001b[0m, in \u001b[0;36mread_csv\u001b[1;34m(filepath_or_buffer, sep, delimiter, header, names, index_col, usecols, dtype, engine, converters, true_values, false_values, skipinitialspace, skiprows, skipfooter, nrows, na_values, keep_default_na, na_filter, verbose, skip_blank_lines, parse_dates, infer_datetime_format, keep_date_col, date_parser, date_format, dayfirst, cache_dates, iterator, chunksize, compression, thousands, decimal, lineterminator, quotechar, quoting, doublequote, escapechar, comment, encoding, encoding_errors, dialect, on_bad_lines, delim_whitespace, low_memory, memory_map, float_precision, storage_options, dtype_backend)\u001b[0m\n\u001b[0;32m    935\u001b[0m kwds_defaults \u001b[38;5;241m=\u001b[39m _refine_defaults_read(\n\u001b[0;32m    936\u001b[0m     dialect,\n\u001b[0;32m    937\u001b[0m     delimiter,\n\u001b[1;32m   (...)\u001b[0m\n\u001b[0;32m    944\u001b[0m     dtype_backend\u001b[38;5;241m=\u001b[39mdtype_backend,\n\u001b[0;32m    945\u001b[0m )\n\u001b[0;32m    946\u001b[0m kwds\u001b[38;5;241m.\u001b[39mupdate(kwds_defaults)\n\u001b[1;32m--> 948\u001b[0m \u001b[38;5;28;01mreturn\u001b[39;00m \u001b[43m_read\u001b[49m\u001b[43m(\u001b[49m\u001b[43mfilepath_or_buffer\u001b[49m\u001b[43m,\u001b[49m\u001b[43m \u001b[49m\u001b[43mkwds\u001b[49m\u001b[43m)\u001b[49m\n",
      "File \u001b[1;32mC:\\python3.11\\Lib\\site-packages\\pandas\\io\\parsers\\readers.py:611\u001b[0m, in \u001b[0;36m_read\u001b[1;34m(filepath_or_buffer, kwds)\u001b[0m\n\u001b[0;32m    608\u001b[0m _validate_names(kwds\u001b[38;5;241m.\u001b[39mget(\u001b[38;5;124m\"\u001b[39m\u001b[38;5;124mnames\u001b[39m\u001b[38;5;124m\"\u001b[39m, \u001b[38;5;28;01mNone\u001b[39;00m))\n\u001b[0;32m    610\u001b[0m \u001b[38;5;66;03m# Create the parser.\u001b[39;00m\n\u001b[1;32m--> 611\u001b[0m parser \u001b[38;5;241m=\u001b[39m \u001b[43mTextFileReader\u001b[49m\u001b[43m(\u001b[49m\u001b[43mfilepath_or_buffer\u001b[49m\u001b[43m,\u001b[49m\u001b[43m \u001b[49m\u001b[38;5;241;43m*\u001b[39;49m\u001b[38;5;241;43m*\u001b[39;49m\u001b[43mkwds\u001b[49m\u001b[43m)\u001b[49m\n\u001b[0;32m    613\u001b[0m \u001b[38;5;28;01mif\u001b[39;00m chunksize \u001b[38;5;129;01mor\u001b[39;00m iterator:\n\u001b[0;32m    614\u001b[0m     \u001b[38;5;28;01mreturn\u001b[39;00m parser\n",
      "File \u001b[1;32mC:\\python3.11\\Lib\\site-packages\\pandas\\io\\parsers\\readers.py:1448\u001b[0m, in \u001b[0;36mTextFileReader.__init__\u001b[1;34m(self, f, engine, **kwds)\u001b[0m\n\u001b[0;32m   1445\u001b[0m     \u001b[38;5;28mself\u001b[39m\u001b[38;5;241m.\u001b[39moptions[\u001b[38;5;124m\"\u001b[39m\u001b[38;5;124mhas_index_names\u001b[39m\u001b[38;5;124m\"\u001b[39m] \u001b[38;5;241m=\u001b[39m kwds[\u001b[38;5;124m\"\u001b[39m\u001b[38;5;124mhas_index_names\u001b[39m\u001b[38;5;124m\"\u001b[39m]\n\u001b[0;32m   1447\u001b[0m \u001b[38;5;28mself\u001b[39m\u001b[38;5;241m.\u001b[39mhandles: IOHandles \u001b[38;5;241m|\u001b[39m \u001b[38;5;28;01mNone\u001b[39;00m \u001b[38;5;241m=\u001b[39m \u001b[38;5;28;01mNone\u001b[39;00m\n\u001b[1;32m-> 1448\u001b[0m \u001b[38;5;28mself\u001b[39m\u001b[38;5;241m.\u001b[39m_engine \u001b[38;5;241m=\u001b[39m \u001b[38;5;28;43mself\u001b[39;49m\u001b[38;5;241;43m.\u001b[39;49m\u001b[43m_make_engine\u001b[49m\u001b[43m(\u001b[49m\u001b[43mf\u001b[49m\u001b[43m,\u001b[49m\u001b[43m \u001b[49m\u001b[38;5;28;43mself\u001b[39;49m\u001b[38;5;241;43m.\u001b[39;49m\u001b[43mengine\u001b[49m\u001b[43m)\u001b[49m\n",
      "File \u001b[1;32mC:\\python3.11\\Lib\\site-packages\\pandas\\io\\parsers\\readers.py:1705\u001b[0m, in \u001b[0;36mTextFileReader._make_engine\u001b[1;34m(self, f, engine)\u001b[0m\n\u001b[0;32m   1703\u001b[0m     \u001b[38;5;28;01mif\u001b[39;00m \u001b[38;5;124m\"\u001b[39m\u001b[38;5;124mb\u001b[39m\u001b[38;5;124m\"\u001b[39m \u001b[38;5;129;01mnot\u001b[39;00m \u001b[38;5;129;01min\u001b[39;00m mode:\n\u001b[0;32m   1704\u001b[0m         mode \u001b[38;5;241m+\u001b[39m\u001b[38;5;241m=\u001b[39m \u001b[38;5;124m\"\u001b[39m\u001b[38;5;124mb\u001b[39m\u001b[38;5;124m\"\u001b[39m\n\u001b[1;32m-> 1705\u001b[0m \u001b[38;5;28mself\u001b[39m\u001b[38;5;241m.\u001b[39mhandles \u001b[38;5;241m=\u001b[39m \u001b[43mget_handle\u001b[49m\u001b[43m(\u001b[49m\n\u001b[0;32m   1706\u001b[0m \u001b[43m    \u001b[49m\u001b[43mf\u001b[49m\u001b[43m,\u001b[49m\n\u001b[0;32m   1707\u001b[0m \u001b[43m    \u001b[49m\u001b[43mmode\u001b[49m\u001b[43m,\u001b[49m\n\u001b[0;32m   1708\u001b[0m \u001b[43m    \u001b[49m\u001b[43mencoding\u001b[49m\u001b[38;5;241;43m=\u001b[39;49m\u001b[38;5;28;43mself\u001b[39;49m\u001b[38;5;241;43m.\u001b[39;49m\u001b[43moptions\u001b[49m\u001b[38;5;241;43m.\u001b[39;49m\u001b[43mget\u001b[49m\u001b[43m(\u001b[49m\u001b[38;5;124;43m\"\u001b[39;49m\u001b[38;5;124;43mencoding\u001b[39;49m\u001b[38;5;124;43m\"\u001b[39;49m\u001b[43m,\u001b[49m\u001b[43m \u001b[49m\u001b[38;5;28;43;01mNone\u001b[39;49;00m\u001b[43m)\u001b[49m\u001b[43m,\u001b[49m\n\u001b[0;32m   1709\u001b[0m \u001b[43m    \u001b[49m\u001b[43mcompression\u001b[49m\u001b[38;5;241;43m=\u001b[39;49m\u001b[38;5;28;43mself\u001b[39;49m\u001b[38;5;241;43m.\u001b[39;49m\u001b[43moptions\u001b[49m\u001b[38;5;241;43m.\u001b[39;49m\u001b[43mget\u001b[49m\u001b[43m(\u001b[49m\u001b[38;5;124;43m\"\u001b[39;49m\u001b[38;5;124;43mcompression\u001b[39;49m\u001b[38;5;124;43m\"\u001b[39;49m\u001b[43m,\u001b[49m\u001b[43m \u001b[49m\u001b[38;5;28;43;01mNone\u001b[39;49;00m\u001b[43m)\u001b[49m\u001b[43m,\u001b[49m\n\u001b[0;32m   1710\u001b[0m \u001b[43m    \u001b[49m\u001b[43mmemory_map\u001b[49m\u001b[38;5;241;43m=\u001b[39;49m\u001b[38;5;28;43mself\u001b[39;49m\u001b[38;5;241;43m.\u001b[39;49m\u001b[43moptions\u001b[49m\u001b[38;5;241;43m.\u001b[39;49m\u001b[43mget\u001b[49m\u001b[43m(\u001b[49m\u001b[38;5;124;43m\"\u001b[39;49m\u001b[38;5;124;43mmemory_map\u001b[39;49m\u001b[38;5;124;43m\"\u001b[39;49m\u001b[43m,\u001b[49m\u001b[43m \u001b[49m\u001b[38;5;28;43;01mFalse\u001b[39;49;00m\u001b[43m)\u001b[49m\u001b[43m,\u001b[49m\n\u001b[0;32m   1711\u001b[0m \u001b[43m    \u001b[49m\u001b[43mis_text\u001b[49m\u001b[38;5;241;43m=\u001b[39;49m\u001b[43mis_text\u001b[49m\u001b[43m,\u001b[49m\n\u001b[0;32m   1712\u001b[0m \u001b[43m    \u001b[49m\u001b[43merrors\u001b[49m\u001b[38;5;241;43m=\u001b[39;49m\u001b[38;5;28;43mself\u001b[39;49m\u001b[38;5;241;43m.\u001b[39;49m\u001b[43moptions\u001b[49m\u001b[38;5;241;43m.\u001b[39;49m\u001b[43mget\u001b[49m\u001b[43m(\u001b[49m\u001b[38;5;124;43m\"\u001b[39;49m\u001b[38;5;124;43mencoding_errors\u001b[39;49m\u001b[38;5;124;43m\"\u001b[39;49m\u001b[43m,\u001b[49m\u001b[43m \u001b[49m\u001b[38;5;124;43m\"\u001b[39;49m\u001b[38;5;124;43mstrict\u001b[39;49m\u001b[38;5;124;43m\"\u001b[39;49m\u001b[43m)\u001b[49m\u001b[43m,\u001b[49m\n\u001b[0;32m   1713\u001b[0m \u001b[43m    \u001b[49m\u001b[43mstorage_options\u001b[49m\u001b[38;5;241;43m=\u001b[39;49m\u001b[38;5;28;43mself\u001b[39;49m\u001b[38;5;241;43m.\u001b[39;49m\u001b[43moptions\u001b[49m\u001b[38;5;241;43m.\u001b[39;49m\u001b[43mget\u001b[49m\u001b[43m(\u001b[49m\u001b[38;5;124;43m\"\u001b[39;49m\u001b[38;5;124;43mstorage_options\u001b[39;49m\u001b[38;5;124;43m\"\u001b[39;49m\u001b[43m,\u001b[49m\u001b[43m \u001b[49m\u001b[38;5;28;43;01mNone\u001b[39;49;00m\u001b[43m)\u001b[49m\u001b[43m,\u001b[49m\n\u001b[0;32m   1714\u001b[0m \u001b[43m\u001b[49m\u001b[43m)\u001b[49m\n\u001b[0;32m   1715\u001b[0m \u001b[38;5;28;01massert\u001b[39;00m \u001b[38;5;28mself\u001b[39m\u001b[38;5;241m.\u001b[39mhandles \u001b[38;5;129;01mis\u001b[39;00m \u001b[38;5;129;01mnot\u001b[39;00m \u001b[38;5;28;01mNone\u001b[39;00m\n\u001b[0;32m   1716\u001b[0m f \u001b[38;5;241m=\u001b[39m \u001b[38;5;28mself\u001b[39m\u001b[38;5;241m.\u001b[39mhandles\u001b[38;5;241m.\u001b[39mhandle\n",
      "File \u001b[1;32mC:\\python3.11\\Lib\\site-packages\\pandas\\io\\common.py:863\u001b[0m, in \u001b[0;36mget_handle\u001b[1;34m(path_or_buf, mode, encoding, compression, memory_map, is_text, errors, storage_options)\u001b[0m\n\u001b[0;32m    858\u001b[0m \u001b[38;5;28;01melif\u001b[39;00m \u001b[38;5;28misinstance\u001b[39m(handle, \u001b[38;5;28mstr\u001b[39m):\n\u001b[0;32m    859\u001b[0m     \u001b[38;5;66;03m# Check whether the filename is to be opened in binary mode.\u001b[39;00m\n\u001b[0;32m    860\u001b[0m     \u001b[38;5;66;03m# Binary mode does not support 'encoding' and 'newline'.\u001b[39;00m\n\u001b[0;32m    861\u001b[0m     \u001b[38;5;28;01mif\u001b[39;00m ioargs\u001b[38;5;241m.\u001b[39mencoding \u001b[38;5;129;01mand\u001b[39;00m \u001b[38;5;124m\"\u001b[39m\u001b[38;5;124mb\u001b[39m\u001b[38;5;124m\"\u001b[39m \u001b[38;5;129;01mnot\u001b[39;00m \u001b[38;5;129;01min\u001b[39;00m ioargs\u001b[38;5;241m.\u001b[39mmode:\n\u001b[0;32m    862\u001b[0m         \u001b[38;5;66;03m# Encoding\u001b[39;00m\n\u001b[1;32m--> 863\u001b[0m         handle \u001b[38;5;241m=\u001b[39m \u001b[38;5;28;43mopen\u001b[39;49m\u001b[43m(\u001b[49m\n\u001b[0;32m    864\u001b[0m \u001b[43m            \u001b[49m\u001b[43mhandle\u001b[49m\u001b[43m,\u001b[49m\n\u001b[0;32m    865\u001b[0m \u001b[43m            \u001b[49m\u001b[43mioargs\u001b[49m\u001b[38;5;241;43m.\u001b[39;49m\u001b[43mmode\u001b[49m\u001b[43m,\u001b[49m\n\u001b[0;32m    866\u001b[0m \u001b[43m            \u001b[49m\u001b[43mencoding\u001b[49m\u001b[38;5;241;43m=\u001b[39;49m\u001b[43mioargs\u001b[49m\u001b[38;5;241;43m.\u001b[39;49m\u001b[43mencoding\u001b[49m\u001b[43m,\u001b[49m\n\u001b[0;32m    867\u001b[0m \u001b[43m            \u001b[49m\u001b[43merrors\u001b[49m\u001b[38;5;241;43m=\u001b[39;49m\u001b[43merrors\u001b[49m\u001b[43m,\u001b[49m\n\u001b[0;32m    868\u001b[0m \u001b[43m            \u001b[49m\u001b[43mnewline\u001b[49m\u001b[38;5;241;43m=\u001b[39;49m\u001b[38;5;124;43m\"\u001b[39;49m\u001b[38;5;124;43m\"\u001b[39;49m\u001b[43m,\u001b[49m\n\u001b[0;32m    869\u001b[0m \u001b[43m        \u001b[49m\u001b[43m)\u001b[49m\n\u001b[0;32m    870\u001b[0m     \u001b[38;5;28;01melse\u001b[39;00m:\n\u001b[0;32m    871\u001b[0m         \u001b[38;5;66;03m# Binary mode\u001b[39;00m\n\u001b[0;32m    872\u001b[0m         handle \u001b[38;5;241m=\u001b[39m \u001b[38;5;28mopen\u001b[39m(handle, ioargs\u001b[38;5;241m.\u001b[39mmode)\n",
      "\u001b[1;31mFileNotFoundError\u001b[0m: [Errno 2] No such file or directory: 'tmdb_5000_movies.csv'"
     ]
    }
   ],
   "source": [
    "movie=pd.read_csv('tmdb_5000_movies.csv')\n",
    "credit=pd.read_csv('tmdb_5000_credits.csv')"
   ]
  },
  {
   "cell_type": "code",
   "execution_count": 4,
   "id": "34f9f42e-040e-4e1c-aa5f-0a87d7d69162",
   "metadata": {},
   "outputs": [
    {
     "ename": "NameError",
     "evalue": "name 'movie' is not defined",
     "output_type": "error",
     "traceback": [
      "\u001b[1;31m---------------------------------------------------------------------------\u001b[0m",
      "\u001b[1;31mNameError\u001b[0m                                 Traceback (most recent call last)",
      "Cell \u001b[1;32mIn[4], line 1\u001b[0m\n\u001b[1;32m----> 1\u001b[0m \u001b[43mmovie\u001b[49m\u001b[38;5;241m.\u001b[39mhead(\u001b[38;5;241m1\u001b[39m)\n",
      "\u001b[1;31mNameError\u001b[0m: name 'movie' is not defined"
     ]
    }
   ],
   "source": [
    "movie.head(1)"
   ]
  },
  {
   "cell_type": "code",
   "execution_count": 5,
   "id": "d1b70509-2034-4930-9507-cbc777d52814",
   "metadata": {},
   "outputs": [
    {
     "ename": "NameError",
     "evalue": "name 'credit' is not defined",
     "output_type": "error",
     "traceback": [
      "\u001b[1;31m---------------------------------------------------------------------------\u001b[0m",
      "\u001b[1;31mNameError\u001b[0m                                 Traceback (most recent call last)",
      "Cell \u001b[1;32mIn[5], line 1\u001b[0m\n\u001b[1;32m----> 1\u001b[0m \u001b[43mcredit\u001b[49m\u001b[38;5;241m.\u001b[39mhead(\u001b[38;5;241m1\u001b[39m)\n",
      "\u001b[1;31mNameError\u001b[0m: name 'credit' is not defined"
     ]
    }
   ],
   "source": [
    "credit.head(1)"
   ]
  },
  {
   "cell_type": "code",
   "execution_count": 6,
   "id": "0356ffae-a7ca-4ee2-8a97-3e155241777f",
   "metadata": {},
   "outputs": [],
   "source": [
    "#credit.head(1)['cast'].values"
   ]
  },
  {
   "cell_type": "code",
   "execution_count": 7,
   "id": "a058d3ff-e3c1-46d2-9b51-01f359fcad2a",
   "metadata": {},
   "outputs": [
    {
     "ename": "NameError",
     "evalue": "name 'movie' is not defined",
     "output_type": "error",
     "traceback": [
      "\u001b[1;31m---------------------------------------------------------------------------\u001b[0m",
      "\u001b[1;31mNameError\u001b[0m                                 Traceback (most recent call last)",
      "Cell \u001b[1;32mIn[7], line 1\u001b[0m\n\u001b[1;32m----> 1\u001b[0m movie\u001b[38;5;241m=\u001b[39m\u001b[43mmovie\u001b[49m\u001b[38;5;241m.\u001b[39mmerge(credit,on\u001b[38;5;241m=\u001b[39m\u001b[38;5;124m'\u001b[39m\u001b[38;5;124mtitle\u001b[39m\u001b[38;5;124m'\u001b[39m)\u001b[38;5;66;03m#merging of two data sets\u001b[39;00m\n",
      "\u001b[1;31mNameError\u001b[0m: name 'movie' is not defined"
     ]
    }
   ],
   "source": [
    "movie=movie.merge(credit,on='title')#merging of two data sets"
   ]
  },
  {
   "cell_type": "code",
   "execution_count": 8,
   "id": "58539279-efaa-4959-9fb9-b7015c083d39",
   "metadata": {},
   "outputs": [
    {
     "ename": "NameError",
     "evalue": "name 'movie' is not defined",
     "output_type": "error",
     "traceback": [
      "\u001b[1;31m---------------------------------------------------------------------------\u001b[0m",
      "\u001b[1;31mNameError\u001b[0m                                 Traceback (most recent call last)",
      "Cell \u001b[1;32mIn[8], line 1\u001b[0m\n\u001b[1;32m----> 1\u001b[0m \u001b[43mmovie\u001b[49m\u001b[38;5;241m.\u001b[39mhead(\u001b[38;5;241m1\u001b[39m)\n",
      "\u001b[1;31mNameError\u001b[0m: name 'movie' is not defined"
     ]
    }
   ],
   "source": [
    "movie.head(1)"
   ]
  },
  {
   "cell_type": "code",
   "execution_count": 9,
   "id": "c576350e-1141-4265-9e25-469ebd934c77",
   "metadata": {},
   "outputs": [
    {
     "ename": "NameError",
     "evalue": "name 'movie' is not defined",
     "output_type": "error",
     "traceback": [
      "\u001b[1;31m---------------------------------------------------------------------------\u001b[0m",
      "\u001b[1;31mNameError\u001b[0m                                 Traceback (most recent call last)",
      "Cell \u001b[1;32mIn[9], line 1\u001b[0m\n\u001b[1;32m----> 1\u001b[0m \u001b[43mmovie\u001b[49m\u001b[38;5;241m.\u001b[39minfo()\n",
      "\u001b[1;31mNameError\u001b[0m: name 'movie' is not defined"
     ]
    }
   ],
   "source": [
    "movie.info()"
   ]
  },
  {
   "cell_type": "code",
   "execution_count": 10,
   "id": "859cb795-563b-414a-9fd3-742c1382402b",
   "metadata": {},
   "outputs": [
    {
     "ename": "NameError",
     "evalue": "name 'movie' is not defined",
     "output_type": "error",
     "traceback": [
      "\u001b[1;31m---------------------------------------------------------------------------\u001b[0m",
      "\u001b[1;31mNameError\u001b[0m                                 Traceback (most recent call last)",
      "Cell \u001b[1;32mIn[10], line 1\u001b[0m\n\u001b[1;32m----> 1\u001b[0m movie \u001b[38;5;241m=\u001b[39m \u001b[43mmovie\u001b[49m[[\u001b[38;5;124m'\u001b[39m\u001b[38;5;124mmovie_id\u001b[39m\u001b[38;5;124m'\u001b[39m,\u001b[38;5;124m'\u001b[39m\u001b[38;5;124mtitle\u001b[39m\u001b[38;5;124m'\u001b[39m,\u001b[38;5;124m'\u001b[39m\u001b[38;5;124moverview\u001b[39m\u001b[38;5;124m'\u001b[39m,\u001b[38;5;124m'\u001b[39m\u001b[38;5;124mgenres\u001b[39m\u001b[38;5;124m'\u001b[39m,\u001b[38;5;124m'\u001b[39m\u001b[38;5;124mkeywords\u001b[39m\u001b[38;5;124m'\u001b[39m,\u001b[38;5;124m'\u001b[39m\u001b[38;5;124mcast\u001b[39m\u001b[38;5;124m'\u001b[39m,\u001b[38;5;124m'\u001b[39m\u001b[38;5;124mcrew\u001b[39m\u001b[38;5;124m'\u001b[39m]]\n",
      "\u001b[1;31mNameError\u001b[0m: name 'movie' is not defined"
     ]
    }
   ],
   "source": [
    "movie = movie[['movie_id','title','overview','genres','keywords','cast','crew']]"
   ]
  },
  {
   "cell_type": "code",
   "execution_count": null,
   "id": "aa34ef60-b18b-46ae-9090-9882e3e26d6f",
   "metadata": {},
   "outputs": [],
   "source": [
    "#genre\n",
    "#keywords\n",
    "#title\n",
    "#overview\n",
    "#cast\n",
    "#crew\n",
    "#id\n",
    "movie = movie[['movie_id','title','overview','genres','keywords','cast','crew']]"
   ]
  },
  {
   "cell_type": "code",
   "execution_count": null,
   "id": "12e5e345-6dae-4b6b-84d8-b1d049977699",
   "metadata": {},
   "outputs": [],
   "source": [
    "#required data set to perform\n",
    "movie.head(1)"
   ]
  },
  {
   "cell_type": "code",
   "execution_count": null,
   "id": "4b3ae34b-affb-48e2-b99d-6c732bc5cb85",
   "metadata": {},
   "outputs": [],
   "source": [
    "movie.isnull().sum()"
   ]
  },
  {
   "cell_type": "code",
   "execution_count": null,
   "id": "50782eb1-2627-42ea-b308-a0f3173840c9",
   "metadata": {},
   "outputs": [],
   "source": [
    "movie.dropna(inplace=True)#droped the row which has null values"
   ]
  },
  {
   "cell_type": "code",
   "execution_count": null,
   "id": "61482c42-197a-4a38-a821-831a38902a02",
   "metadata": {},
   "outputs": [],
   "source": [
    "movie.duplicated().sum()#to check the duplicated values"
   ]
  },
  {
   "cell_type": "code",
   "execution_count": null,
   "id": "d0355951-14a2-415e-98a8-784502a9a89e",
   "metadata": {},
   "outputs": [],
   "source": [
    "movie.iloc[0].genres#we do fore genres,keywords and cast[director]"
   ]
  },
  {
   "cell_type": "code",
   "execution_count": null,
   "id": "41020c65-b89e-47c2-8872-d31d2f662581",
   "metadata": {},
   "outputs": [],
   "source": [
    "#'[{\"id\": 28, \"name\": \"Action\"}, {\"id\": 12, \"name\": \"Adventure\"}, {\"id\": 14, \"name\": \"Fantasy\"}, {\"id\": 878, \"name\": \"Science Fiction\"}]'\n",
    "#we have to convert into \n",
    "#['action','adventure','fantasy','science fiction']"
   ]
  },
  {
   "cell_type": "code",
   "execution_count": null,
   "id": "46e493d8-19c0-4b01-8a13-0e609fa523e9",
   "metadata": {},
   "outputs": [],
   "source": [
    "#def convert(text):\n",
    "  #  L=[]\n",
    "  #  for i in text:\n",
    "   #     L.append(i['name'])\n",
    "    #    return L"
   ]
  },
  {
   "cell_type": "code",
   "execution_count": null,
   "id": "718606d2-5904-4594-9810-7e8a1eeaca9a",
   "metadata": {},
   "outputs": [],
   "source": [
    "#convert('[{\"id\": 28, \"name\": \"Action\"}, {\"id\": 12, \"name\": \"Adventure\"}, {\"id\": 14, \"name\": \"Fantasy\"}, {\"id\": 878, \"name\": \"Science Fiction\"}]')"
   ]
  },
  {
   "cell_type": "code",
   "execution_count": null,
   "id": "1d583364-0406-4ee9-97e4-3f3b7bf01897",
   "metadata": {},
   "outputs": [],
   "source": [
    "import ast \n",
    "#convert string into integer"
   ]
  },
  {
   "cell_type": "code",
   "execution_count": null,
   "id": "1ea9735f-660c-46e2-95e0-dc3f2091c862",
   "metadata": {},
   "outputs": [],
   "source": [
    "#this function is used to convert string into integer or list\n",
    "ast.literal_eval('[{\"id\": 28, \"name\": \"Action\"}, {\"id\": 12, \"name\": \"Adventure\"}, {\"id\": 14, \"name\": \"Fantasy\"}, {\"id\": 878, \"name\": \"Science Fiction\"}]')"
   ]
  },
  {
   "cell_type": "code",
   "execution_count": null,
   "id": "3e4ea036-4112-42d4-854f-967a47c61a58",
   "metadata": {},
   "outputs": [],
   "source": [
    "def convert(text):\n",
    "    L = []\n",
    "    for i in ast.literal_eval(text):\n",
    "        L.append(i['name']) \n",
    "    return L "
   ]
  },
  {
   "cell_type": "code",
   "execution_count": null,
   "id": "9062cb32-9c95-4f92-9ea2-cb734f3cc9c9",
   "metadata": {},
   "outputs": [],
   "source": [
    "#convert('[{\"id\": 28, \"name\": \"Action\"}, {\"id\": 12, \"name\": \"Adventure\"}, {\"id\": 14, \"name\": \"Fantasy\"}, {\"id\": 878, \"name\": \"Science Fiction\"}]')"
   ]
  },
  {
   "cell_type": "code",
   "execution_count": null,
   "id": "91e6c2d4-6458-4baf-ba3c-43a74f40fb3e",
   "metadata": {},
   "outputs": [],
   "source": [
    "\n",
    "movie['genres'] = movie['genres'].apply(convert)\n",
    "movie.head()"
   ]
  },
  {
   "cell_type": "code",
   "execution_count": null,
   "id": "975c5fb7-c43b-4beb-90b7-04de29840e51",
   "metadata": {},
   "outputs": [],
   "source": [
    "movie.head(1)"
   ]
  },
  {
   "cell_type": "code",
   "execution_count": null,
   "id": "ddcb2e38-e4c1-4f2d-ad51-ec961049fc3b",
   "metadata": {},
   "outputs": [],
   "source": [
    "movie['keywords'] = movie['keywords'].apply(convert)\n",
    "movie.head()"
   ]
  },
  {
   "cell_type": "code",
   "execution_count": null,
   "id": "51805d2f-5820-4369-8ebb-6109c58547ea",
   "metadata": {},
   "outputs": [],
   "source": [
    "#movie['cast'][0]"
   ]
  },
  {
   "cell_type": "code",
   "execution_count": null,
   "id": "31aaac28-5536-4e31-bcd1-a948b916a770",
   "metadata": {},
   "outputs": [],
   "source": [
    "def convert3(text):\n",
    "    L = []\n",
    "    counter=0\n",
    "    for i in ast.literal_eval(text):\n",
    "        if counter!=3:\n",
    "          L.append(i['name']) \n",
    "          counter+=1\n",
    "        else:\n",
    "          break\n",
    "    return L \n",
    "#we have to take names of only top 3 actors "
   ]
  },
  {
   "cell_type": "code",
   "execution_count": null,
   "id": "5751996f-a371-4fac-8996-cfc285fac6fc",
   "metadata": {},
   "outputs": [],
   "source": [
    "movie['cast'] = movie['cast'].apply(convert3)\n",
    "movie.head()"
   ]
  },
  {
   "cell_type": "code",
   "execution_count": null,
   "id": "ad6a717b-8255-44c1-a570-408cd7977b39",
   "metadata": {},
   "outputs": [],
   "source": [
    "#movie['crew'][0]"
   ]
  },
  {
   "cell_type": "code",
   "execution_count": null,
   "id": "7d153819-9d9c-4bbd-b49b-d11764f8d382",
   "metadata": {},
   "outputs": [],
   "source": [
    "#for fetcing the director\n",
    "def fetchdirector(text):\n",
    "    L = []\n",
    "    for i in ast.literal_eval(text):\n",
    "        if i['job']=='Director':\n",
    "          L.append(i['name']) \n",
    "          break\n",
    "    return L "
   ]
  },
  {
   "cell_type": "code",
   "execution_count": null,
   "id": "a6385196-af46-4183-a0dd-2976501c7199",
   "metadata": {},
   "outputs": [],
   "source": [
    " movie['crew'].apply(fetchdirector)\n"
   ]
  },
  {
   "cell_type": "code",
   "execution_count": null,
   "id": "4b149c44-563b-47e4-9dc7-c1839a03c7cc",
   "metadata": {},
   "outputs": [],
   "source": [
    "movie['crew'] = movie['crew'].apply(fetchdirector)"
   ]
  },
  {
   "cell_type": "code",
   "execution_count": null,
   "id": "094b7488-5833-40c2-aebc-81f9e453f295",
   "metadata": {},
   "outputs": [],
   "source": [
    "movie.head()"
   ]
  },
  {
   "cell_type": "code",
   "execution_count": null,
   "id": "8c9c8fec-27ef-4216-913f-f78a2f3f2450",
   "metadata": {},
   "outputs": [],
   "source": [
    "\n",
    "movie['overview'] = movie['overview'].apply(lambda x:x.split())"
   ]
  },
  {
   "cell_type": "code",
   "execution_count": null,
   "id": "117a4ac7-8dc4-4ca4-b771-dbd70a6801f4",
   "metadata": {},
   "outputs": [],
   "source": [
    "movie.head()"
   ]
  },
  {
   "cell_type": "code",
   "execution_count": null,
   "id": "87462f2f-72f6-4893-a343-d49094767d6f",
   "metadata": {},
   "outputs": [],
   "source": [
    "#Sam Worthington\n",
    "#SamWorthington\n",
    "#Sam Mendes\n",
    "#we have to make words only one entity as system assume it as two enteties"
   ]
  },
  {
   "cell_type": "code",
   "execution_count": null,
   "id": "1043f4bc-ff5a-4074-99c6-e70b03714da6",
   "metadata": {},
   "outputs": [],
   "source": [
    "def collapse(L):\n",
    "    L1 = []\n",
    "    for i in L:\n",
    "        L1.append(i.replace(\" \",\"\"))\n",
    "    return L1"
   ]
  },
  {
   "cell_type": "code",
   "execution_count": null,
   "id": "2ce841fc-38d7-4e33-ac11-91fa00f5f917",
   "metadata": {},
   "outputs": [],
   "source": [
    " movie['crew']= movie['crew'].apply(collapse)\n",
    " movie['crew']"
   ]
  },
  {
   "cell_type": "code",
   "execution_count": null,
   "id": "307a3a76-43ea-48ef-ab89-63e4fcd552ae",
   "metadata": {},
   "outputs": [],
   "source": [
    "movie['cast'] = movie['cast'].apply(collapse)\n",
    "movie['cast']"
   ]
  },
  {
   "cell_type": "code",
   "execution_count": null,
   "id": "b29f9954-66a8-4dd5-adb1-304807c02090",
   "metadata": {},
   "outputs": [],
   "source": [
    "movie['keywords'] = movie['keywords'].apply(collapse)\n",
    "movie['keywords']"
   ]
  },
  {
   "cell_type": "code",
   "execution_count": null,
   "id": "3c16db10-a5ff-4730-b2e1-353bf5dd24d8",
   "metadata": {},
   "outputs": [],
   "source": [
    "movie['genres'] = movie['genres'].apply(collapse)\n",
    "movie['genres']"
   ]
  },
  {
   "cell_type": "code",
   "execution_count": null,
   "id": "9aca6eec-d0ee-4584-9e22-e4693af966da",
   "metadata": {},
   "outputs": [],
   "source": [
    "movie.head()"
   ]
  },
  {
   "cell_type": "code",
   "execution_count": null,
   "id": "e32e8e07-9699-4806-b79b-46ef57478532",
   "metadata": {},
   "outputs": [],
   "source": [
    "movie['Tags'] = movie['overview'] + movie['genres'] + movie['keywords'] + movie['cast'] + movie['crew']"
   ]
  },
  {
   "cell_type": "code",
   "execution_count": null,
   "id": "2a02029e-06c9-4e2d-9c04-199e664e0f7d",
   "metadata": {},
   "outputs": [],
   "source": [
    "movie['Tags']"
   ]
  },
  {
   "cell_type": "code",
   "execution_count": null,
   "id": "bf3ab333-d17d-4653-80ff-3256750b4fed",
   "metadata": {},
   "outputs": [],
   "source": [
    "movie.head()"
   ]
  },
  {
   "cell_type": "code",
   "execution_count": null,
   "id": "30d165f7-8363-4b5f-b649-855989bcf48f",
   "metadata": {},
   "outputs": [],
   "source": [
    "#now we dont required the colums cast,crew,genere,keywords,overview\n",
    "#new dataframe=movies"
   ]
  },
  {
   "cell_type": "code",
   "execution_count": null,
   "id": "b0ef3307-3239-4961-b58a-b291d3e5ec7b",
   "metadata": {},
   "outputs": [],
   "source": [
    "movies=movie[['movie_id','title','Tags']]\n",
    "movies.head()"
   ]
  },
  {
   "cell_type": "code",
   "execution_count": null,
   "id": "2d7ce1fa-e7cf-4169-a2f4-8c90b358f136",
   "metadata": {},
   "outputs": [],
   "source": [
    "movies['Tags'][0]"
   ]
  },
  {
   "cell_type": "code",
   "execution_count": null,
   "id": "ffac30b9-93ea-48c2-9dc0-f9dad20fbc0d",
   "metadata": {},
   "outputs": [],
   "source": [
    "#convert list into string(\" \"join keywords is used to join the seperated elemnts into single string\n",
    "movies['Tags'] = movies['Tags'].apply(lambda x: \" \".join(x))\n",
    "movies['Tags'][0]"
   ]
  },
  {
   "cell_type": "code",
   "execution_count": null,
   "id": "204d9ae6-f2cf-461d-a946-934941cfd7c3",
   "metadata": {},
   "outputs": [],
   "source": [
    "movies.head()"
   ]
  },
  {
   "cell_type": "code",
   "execution_count": null,
   "id": "013bbb25-3590-4f5b-ba0b-e52f31277482",
   "metadata": {},
   "outputs": [],
   "source": [
    "movies['Tags'] = movies['Tags'].apply(lambda x: x.lower())#it is suggested to be lower case letter\n",
    "movies['Tags']"
   ]
  },
  {
   "cell_type": "code",
   "execution_count": null,
   "id": "97bf0387-1695-4176-8eba-f1fb37fc01ef",
   "metadata": {},
   "outputs": [],
   "source": [
    "!pip install nltk"
   ]
  },
  {
   "cell_type": "code",
   "execution_count": null,
   "id": "0a41d69c-6e2c-4494-aac3-59f05de5d378",
   "metadata": {},
   "outputs": [],
   "source": [
    "from nltk.stem import PorterStemmer\n",
    "\n",
    "# Initialize the PorterStemmer\n",
    "ps = PorterStemmer()"
   ]
  },
  {
   "cell_type": "code",
   "execution_count": null,
   "id": "9205a9a1-339d-4250-9af0-66ac8eae4335",
   "metadata": {},
   "outputs": [],
   "source": [
    "#ps.stem('dancing')"
   ]
  },
  {
   "cell_type": "code",
   "execution_count": null,
   "id": "f2ed8633-8f6a-42a8-8f6c-c525f647cbb1",
   "metadata": {},
   "outputs": [],
   "source": [
    "def Love(word):\n",
    "    L=[]\n",
    "    for i in word.split():\n",
    "        L.append(ps.stem(i))\n",
    "    return \" \".join(L)    #again make it into string "
   ]
  },
  {
   "cell_type": "code",
   "execution_count": null,
   "id": "588d11fa-36bf-42a3-9770-a2acd634ee13",
   "metadata": {},
   "outputs": [],
   "source": [
    "movies['Tags']=movies['Tags'].apply(Love)"
   ]
  },
  {
   "cell_type": "code",
   "execution_count": null,
   "id": "2de85724-cace-4eab-aa4d-a402bcaa7f4e",
   "metadata": {},
   "outputs": [],
   "source": [
    "movies['Tags']"
   ]
  },
  {
   "cell_type": "code",
   "execution_count": null,
   "id": "5f2afbc8-254a-462a-ab89-ccb977e42de9",
   "metadata": {},
   "outputs": [],
   "source": [
    "#conversion of tags into vectoerization \n",
    "from sklearn.feature_extraction.text import CountVectorizer\n",
    "cv = CountVectorizer(max_features=5000,stop_words='english')"
   ]
  },
  {
   "cell_type": "code",
   "execution_count": null,
   "id": "f068388b-366a-4fab-898f-9c18bcf6375d",
   "metadata": {},
   "outputs": [],
   "source": [
    "#vector = cv.fit_transform(movies['Tags'])\n",
    "#vector\n",
    "#count vector gives the spare matrix and we need numy array"
   ]
  },
  {
   "cell_type": "code",
   "execution_count": null,
   "id": "9cac8914-b947-4595-a197-5ca1f070dc92",
   "metadata": {},
   "outputs": [],
   "source": [
    "vector = cv.fit_transform(movies['Tags']).toarray()\n",
    "vector"
   ]
  },
  {
   "cell_type": "code",
   "execution_count": null,
   "id": "fc1a8e22-bd35-4f5d-85a7-ee2af386d750",
   "metadata": {},
   "outputs": [],
   "source": [
    "vector.shape"
   ]
  },
  {
   "cell_type": "code",
   "execution_count": null,
   "id": "398df10b-6996-4da6-b871-fd27d9c0e710",
   "metadata": {},
   "outputs": [],
   "source": [
    "#finding cosine distance between the vectors\n",
    "from sklearn.metrics.pairwise import cosine_similarity"
   ]
  },
  {
   "cell_type": "code",
   "execution_count": null,
   "id": "6135aee2-8612-4f83-babf-a29589608d3b",
   "metadata": {},
   "outputs": [],
   "source": [
    "similarity = cosine_similarity(vector)"
   ]
  },
  {
   "cell_type": "code",
   "execution_count": null,
   "id": "f2656b2e-9a20-46cf-b46e-df6a684f5e7f",
   "metadata": {},
   "outputs": [],
   "source": [
    "similarity.shape"
   ]
  },
  {
   "cell_type": "code",
   "execution_count": null,
   "id": "dda968f0-0612-4e0b-a477-b8c29f5e0d56",
   "metadata": {},
   "outputs": [],
   "source": [
    "similarity[0]\n",
    "#every movie has score of 1 with itself thats why in the first position of array it has 1"
   ]
  },
  {
   "cell_type": "code",
   "execution_count": null,
   "id": "f8bb1571-f39c-4991-abec-97b35d8c304f",
   "metadata": {},
   "outputs": [],
   "source": [
    "#list(enumerate(similarity[0]))\n",
    "#if we sort then the index value will change so we used enumerate so that it shows \n",
    "#the distance of vector with its index"
   ]
  },
  {
   "cell_type": "code",
   "execution_count": null,
   "id": "c92eb75a-3b92-46cf-b661-96d669e29d92",
   "metadata": {},
   "outputs": [],
   "source": [
    "#sorted(list(enumerate(similarity[0])),reverse=True)\n",
    "#sorting has done according to movies index (1st no but we need sorting from 2nd number)"
   ]
  },
  {
   "cell_type": "code",
   "execution_count": null,
   "id": "1a693f37-acd2-4293-9529-f0ffab74ce9d",
   "metadata": {},
   "outputs": [],
   "source": [
    "#sorted(list(enumerate(similarity[0])),reverse=True,key=lambda x:x[1])"
   ]
  },
  {
   "cell_type": "code",
   "execution_count": null,
   "id": "c040b453-8dde-4e3b-a62e-0500c009d3b3",
   "metadata": {},
   "outputs": [],
   "source": [
    "sorted(list(enumerate(similarity[0])),reverse=True,key=lambda x:x[1])[1:6]#we have to take 5 movie"
   ]
  },
  {
   "cell_type": "code",
   "execution_count": null,
   "id": "5671ea51-8a36-43db-9545-56b78eaae5fe",
   "metadata": {},
   "outputs": [],
   "source": [
    "\n",
    "movies[movies['title'] == 'The Lego Movie'].index[0]"
   ]
  },
  {
   "cell_type": "code",
   "execution_count": null,
   "id": "a06daf37-8e71-4852-91ae-bf083fe3b94c",
   "metadata": {},
   "outputs": [],
   "source": [
    "movies.iloc[1216].title"
   ]
  },
  {
   "cell_type": "code",
   "execution_count": null,
   "id": "c03b6868-d120-483a-a2fb-79c1f19ace97",
   "metadata": {},
   "outputs": [],
   "source": [
    "def recommend(movie):\n",
    "    movie_index=movies[movies['title']==movie].index[0]\n",
    "    distances=similarity[movie_index]\n",
    "    movies_list=sorted(list(enumerate(distances)),reverse=True,key=lambda x:x[1])[1:6]\n",
    "    for i in movies_list:\n",
    "       print(movies.iloc[i[0]].title)\n",
    "    "
   ]
  },
  {
   "cell_type": "code",
   "execution_count": null,
   "id": "43967d29-df28-4076-9041-9c2ec985c0a7",
   "metadata": {},
   "outputs": [],
   "source": [
    "recommend('Avatar')\n",
    "#we have to fetch the movie name not index name"
   ]
  },
  {
   "cell_type": "code",
   "execution_count": null,
   "id": "b2e1c494-edcb-40e9-a0ba-8521c403a42e",
   "metadata": {},
   "outputs": [],
   "source": []
  },
  {
   "cell_type": "code",
   "execution_count": null,
   "id": "909e9c42-524a-48d9-8eb3-60abe1a7dae1",
   "metadata": {},
   "outputs": [],
   "source": [
    "import pickle"
   ]
  },
  {
   "cell_type": "code",
   "execution_count": null,
   "id": "c582991e-c56d-4aa0-b0f5-8fc97e87ae06",
   "metadata": {},
   "outputs": [],
   "source": [
    "pickle.dump(movies,open(\"movies.to_dict()\",\"wb\"))"
   ]
  },
  {
   "cell_type": "code",
   "execution_count": null,
   "id": "f6311d02-e383-47ed-ba1b-c3e5f82e6908",
   "metadata": {},
   "outputs": [],
   "source": [
    "#movies[\"title\"].values  we want values to the pycharm"
   ]
  },
  {
   "cell_type": "code",
   "execution_count": null,
   "id": "5a83c5a3-ff69-42f9-bb3f-35866e4bfa24",
   "metadata": {},
   "outputs": [],
   "source": [
    "#movies.to_dict()(it contain movie id,title and tags)"
   ]
  },
  {
   "cell_type": "code",
   "execution_count": null,
   "id": "8fa13a3f-4f39-46fa-947a-7cd129ddcbfa",
   "metadata": {},
   "outputs": [],
   "source": [
    "pickle.dump(similarity,open(\"similarity.pkl\",\"wb\"))"
   ]
  },
  {
   "cell_type": "code",
   "execution_count": null,
   "id": "9c2a6054-3349-460b-8a93-791d4c4aff2b",
   "metadata": {},
   "outputs": [],
   "source": []
  }
 ],
 "metadata": {
  "kernelspec": {
   "display_name": "Python 3 (ipykernel)",
   "language": "python",
   "name": "python3"
  },
  "language_info": {
   "codemirror_mode": {
    "name": "ipython",
    "version": 3
   },
   "file_extension": ".py",
   "mimetype": "text/x-python",
   "name": "python",
   "nbconvert_exporter": "python",
   "pygments_lexer": "ipython3",
   "version": "3.11.5"
  },
  "widgets": {
   "application/vnd.jupyter.widget-state+json": {
    "state": {},
    "version_major": 2,
    "version_minor": 0
   }
  }
 },
 "nbformat": 4,
 "nbformat_minor": 5
}
